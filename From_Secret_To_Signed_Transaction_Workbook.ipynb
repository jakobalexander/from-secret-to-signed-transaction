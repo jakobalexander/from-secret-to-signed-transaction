{
 "cells": [
  {
   "cell_type": "code",
   "execution_count": null,
   "metadata": {},
   "outputs": [],
   "source": [
    "from ecc import G, S256Point\n",
    "from helper import encode_base58, hash160, double_sha256"
   ]
  },
  {
   "cell_type": "markdown",
   "metadata": {},
   "source": [
    "## Define Your Secret (Private Key)"
   ]
  },
  {
   "cell_type": "code",
   "execution_count": null,
   "metadata": {},
   "outputs": [],
   "source": [
    "secret = INSERT_SECRET_HERE"
   ]
  },
  {
   "cell_type": "markdown",
   "metadata": {},
   "source": [
    "## Create Your Lockbox \n"
   ]
  },
  {
   "cell_type": "code",
   "execution_count": null,
   "metadata": {},
   "outputs": [],
   "source": [
    "point = secret * G\n",
    "if point.y.num % 2 == 1:\n",
    "    compressed = b'\\x03' + point.x.num.to_bytes(32, 'big')\n",
    "else:\n",
    "    compressed = b'\\x02' + point.x.num.to_bytes(32, 'big')\n",
    "print(\"Your lockbox's serial number is: \" + \"\\n\" + \"\\n\" + \"\\\"\" + compressed.hex() + \"\\\"\" + \"\\n\" + \"\\n\" + \"This is also know as your public key.\")"
   ]
  },
  {
   "cell_type": "markdown",
   "metadata": {},
   "source": [
    "## Fingerprint Your Lockbox' Serial Number\n",
    "\n",
    "\n",
    "\n"
   ]
  },
  {
   "cell_type": "code",
   "execution_count": null,
   "metadata": {},
   "outputs": [],
   "source": [
    "sec = bytes.fromhex(compressed.hex())\n",
    "h160 = hash160(sec)\n",
    "raw = b\"\\x6f\" + h160\n",
    "raw = raw + double_sha256(raw)[:4]\n",
    "addr = encode_base58(raw)\n",
    "print(\"Your testnet address: \\\"\" + addr.decode('ascii') + \"\\\"\" + \"\\n\")\n",
    "\n",
    "raw2 = b\"\\x00\" + h160\n",
    "raw2 = raw2 + double_sha256(raw2)[:4]\n",
    "addr2 = encode_base58(raw2)\n",
    "print(\"Your mainnet address: \\\"\" + addr2.decode('ascii') + \"\\\"\")"
   ]
  },
  {
   "cell_type": "markdown",
   "metadata": {},
   "source": [
    "## Now Go Get Some Magic Internet Money\n",
    "\n",
    "#### Click here: http://bitcoinfaucet.uo1.net/ copy paste the address that starts with \"m\", select the highest possible amount and click \"Send testnet bitcoins\". \n",
    "\n",
    "#### Then, wait for at least 1 confirmation. Your can check the testnet block exploer here: \n",
    "\n",
    "#### https://live.blockcypher.com/btc-testnet\n",
    "\n",
    "#### Congratulations! You are now the proud owner of some testnet coins :)"
   ]
  },
  {
   "cell_type": "markdown",
   "metadata": {},
   "source": [
    "## Let's Spend Our Newly Received Coins\n",
    "\n",
    "#### In order to do this we will construct a raw transaction and broadcast to the network. \n",
    "\n",
    "#### Assume we want to send 40% of the coins that we just received back to the faucet where we just got them from. The other 60% we want to sent back to our own address.\n",
    "\n",
    "#### Fill in the following items below:\n",
    "\n",
    "#### 1) The TxID of the transaction you just received in the field that says YOUR_TXID_HERE_\n",
    "#### 2) The index of your Tx Output in the field that says YOUR_INDEX_HERE (Hint: The first index is 0)\n",
    "#### 3) Change the target amount to the amount you want to send (YOUR_TARGET_AMOUNT_HERE)\n",
    "#### 4) Change the change amount to the amount you want to send back to you. (YOUR_CHANGE_AMOUNT_HERE)\n",
    "\n",
    "#### Note: Fees are implicitly calculated like so: \n",
    "\n",
    "###### fees = target_amount - change_amount\n",
    "\n",
    "#### So make sure that you leave some fees so that your block gets mined. I recommend leaving 0.01 tBTC.\n"
   ]
  },
  {
   "cell_type": "code",
   "execution_count": null,
   "metadata": {},
   "outputs": [],
   "source": [
    "from ecc import PrivateKey\n",
    "from helper import decode_base58, SIGHASH_ALL\n",
    "from script import p2pkh_script, Script\n",
    "from tx import TxIn, TxOut, Tx\n",
    "\n",
    "prev_tx = bytes.fromhex('4fcf01cc213817e9ea0bfc30eeebc8705cf8a0a4ace4b9a4553883144fa229af')\n",
    "prev_index = 1\n",
    "target_address = '2NGZrVvZG92qGYqzTLjCAewvPZ7JE8S8VxE'\n",
    "target_amount = 0.0004\n",
    "change_address = 'mpc3dAkMqWJFJgQoa7bGMvUsM9eJcTaedD'\n",
    "change_amount = 0.0005\n",
    "priv = PrivateKey(secret=secret)\n",
    "\n",
    "# initialize inputs\n",
    "tx_ins = []\n",
    "# create a new tx input with prev_tx, prev_index, blank script_sig and max sequence\n",
    "tx_ins.append(TxIn(\n",
    "            prev_tx=prev_tx,\n",
    "            prev_index=prev_index,\n",
    "            script_sig=Script([]),\n",
    "            sequence=0xffffffff,\n",
    "        ))\n",
    "\n",
    "# initialize outputs\n",
    "tx_outs = []\n",
    "# decode the hash160 from the target address\n",
    "h160 = decode_base58(target_address)\n",
    "# convert hash160 to p2pkh script\n",
    "script_pubkey = p2pkh_script(h160)\n",
    "# convert target amount to satoshis (multiply by 100 million)\n",
    "target_satoshis = int(target_amount*100000000)\n",
    "# create a new tx output for target with amount and script_pubkey\n",
    "tx_outs.append(TxOut(\n",
    "    amount=target_satoshis,\n",
    "    script_pubkey=script_pubkey,\n",
    "))\n",
    "# decode the hash160 from the change address\n",
    "h160 = decode_base58(change_address)\n",
    "# convert hash160 to p2pkh script\n",
    "script_pubkey = p2pkh_script(h160)\n",
    "# convert change amount to satoshis (multiply by 100 million)\n",
    "change_satoshis = int(change_amount*100000000)\n",
    "# create a new tx output for target with amount and script_pubkey\n",
    "tx_outs.append(TxOut(\n",
    "    amount=change_satoshis,\n",
    "    script_pubkey=script_pubkey,\n",
    "))\n",
    "\n",
    "# create the transaction\n",
    "tx_obj = Tx(version=1, tx_ins=tx_ins, tx_outs=tx_outs, locktime=0, testnet=True)\n",
    "\n",
    "# now sign the 0th input with the private key using SIGHASH_ALL using sign_input\n",
    "tx_obj.sign_input(0, priv, SIGHASH_ALL)\n",
    "\n",
    "# SANITY CHECK: change address corresponds to private key\n",
    "if priv.point.address(testnet=True) != change_address:\n",
    "    raise RuntimeError('Private Key does not correspond to Change Address, check priv_key and change_address')\n",
    "\n",
    "# SANITY CHECK: output's script_pubkey is the same one as your address\n",
    "if tx_ins[0].script_pubkey(testnet=True).items[2] != decode_base58(change_address):\n",
    "    raise RuntimeError('Output is not something you can spend with this private key. Check that the prev_tx and prev_index are correct')\n",
    "\n",
    "# SANITY CHECK: fee is reasonable\n",
    "if tx_obj.fee() > 0.05*100000000 or tx_obj.fee() <= 0:\n",
    "    raise RuntimeError('Check that the change amount is reasonable. Fee is {}'.format(tx_obj.fee()))\n",
    "\n",
    "# serialize and hex()\n",
    "print(tx_obj.serialize().hex())"
   ]
  },
  {
   "cell_type": "markdown",
   "metadata": {},
   "source": [
    "### Now, copy the raw transaction and broadcast it to the network by pasting it into the first window here:\n",
    "\n",
    "https://live.blockcypher.com/btc-testnet/pushtx/"
   ]
  },
  {
   "cell_type": "markdown",
   "metadata": {},
   "source": [
    "## Well done! You have just send a raw tBTC transaction."
   ]
  },
  {
   "cell_type": "code",
   "execution_count": null,
   "metadata": {},
   "outputs": [],
   "source": []
  }
 ],
 "metadata": {
  "kernelspec": {
   "display_name": "Python 3",
   "language": "python",
   "name": "python3"
  },
  "language_info": {
   "codemirror_mode": {
    "name": "ipython",
    "version": 3
   },
   "file_extension": ".py",
   "mimetype": "text/x-python",
   "name": "python",
   "nbconvert_exporter": "python",
   "pygments_lexer": "ipython3",
   "version": "3.6.7"
  }
 },
 "nbformat": 4,
 "nbformat_minor": 2
}
